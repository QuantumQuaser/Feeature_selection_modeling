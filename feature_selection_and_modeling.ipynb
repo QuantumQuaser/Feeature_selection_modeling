{
  "nbformat": 4,
  "nbformat_minor": 0,
  "metadata": {
    "colab": {
      "provenance": []
    },
    "kernelspec": {
      "name": "python3",
      "display_name": "Python 3"
    },
    "language_info": {
      "name": "python"
    }
  },
  "cells": [
    {
      "cell_type": "code",
      "execution_count": 1,
      "metadata": {
        "id": "X_1aJS3zNDO4"
      },
      "outputs": [],
      "source": [
        "# Importing required libraries\n",
        "from sklearn.datasets import fetch_california_housing\n",
        "from sklearn.model_selection import train_test_split, cross_val_score\n",
        "from sklearn.preprocessing import StandardScaler\n",
        "from sklearn.feature_selection import SelectKBest, f_regression, RFE\n",
        "from sklearn.decomposition import PCA\n",
        "from sklearn.linear_model import LinearRegression, Ridge, Lasso\n",
        "from sklearn.ensemble import RandomForestRegressor\n",
        "from sklearn.metrics import mean_squared_error"
      ]
    },
    {
      "cell_type": "code",
      "source": [
        "# Load the dataset\n",
        "housing = fetch_california_housing()\n",
        "X, y = housing.data, housing.target"
      ],
      "metadata": {
        "id": "xbtG_1oTOPxI"
      },
      "execution_count": 2,
      "outputs": []
    },
    {
      "cell_type": "code",
      "source": [
        "# Split the dataset into training and testing sets\n",
        "X_train, X_test, y_train, y_test = train_test_split(X, y, test_size=0.2, random_state=42)"
      ],
      "metadata": {
        "id": "pkyB2e3vOSv9"
      },
      "execution_count": 3,
      "outputs": []
    },
    {
      "cell_type": "code",
      "source": [
        "# Standardize the features\n",
        "scaler = StandardScaler()\n",
        "X_train_scaled = scaler.fit_transform(X_train)\n",
        "X_test_scaled = scaler.transform(X_test)"
      ],
      "metadata": {
        "id": "VDSJFVtlOW6M"
      },
      "execution_count": 4,
      "outputs": []
    },
    {
      "cell_type": "code",
      "source": [
        "# Define the number of features to select\n",
        "k = 5"
      ],
      "metadata": {
        "id": "MWSeZ9QdOZ9B"
      },
      "execution_count": 5,
      "outputs": []
    },
    {
      "cell_type": "code",
      "source": [
        "# Feature Selection using SelectKBest\n",
        "selector_k_best = SelectKBest(score_func=f_regression, k=k)\n",
        "X_train_k_best = selector_k_best.fit_transform(X_train_scaled, y_train)\n",
        "X_test_k_best = selector_k_best.transform(X_test_scaled)"
      ],
      "metadata": {
        "id": "ZTsSnHSqOdv4"
      },
      "execution_count": 6,
      "outputs": []
    },
    {
      "cell_type": "code",
      "source": [
        "# Feature Selection using RFE\n",
        "selector_rfe = RFE(estimator=LinearRegression(), n_features_to_select=k)\n",
        "X_train_rfe = selector_rfe.fit_transform(X_train_scaled, y_train)\n",
        "X_test_rfe = selector_rfe.transform(X_test_scaled)"
      ],
      "metadata": {
        "id": "bR6bGs3YOhZl"
      },
      "execution_count": 7,
      "outputs": []
    },
    {
      "cell_type": "code",
      "source": [
        "# Dimensionality Reduction using PCA\n",
        "pca = PCA(n_components=k)\n",
        "X_train_pca = pca.fit_transform(X_train_scaled)\n",
        "X_test_pca = pca.transform(X_test_scaled)"
      ],
      "metadata": {
        "id": "cUkZaB1GOkFD"
      },
      "execution_count": 8,
      "outputs": []
    },
    {
      "cell_type": "code",
      "source": [
        "# Initialize models\n",
        "models = {\n",
        "    \"Linear Regression\": LinearRegression(),\n",
        "    \"Ridge Regression\": Ridge(),\n",
        "    \"Lasso Regression\": Lasso(),\n",
        "    \"Random Forest\": RandomForestRegressor()\n",
        "}\n"
      ],
      "metadata": {
        "id": "dNTXBteWOnop"
      },
      "execution_count": 9,
      "outputs": []
    },
    {
      "cell_type": "code",
      "source": [
        "# Function to train and evaluate a model\n",
        "def train_evaluate_model(model, X_train, X_test):\n",
        "    model.fit(X_train, y_train)\n",
        "    predictions = model.predict(X_test)\n",
        "    mse = mean_squared_error(y_test, predictions)\n",
        "    return mse"
      ],
      "metadata": {
        "id": "bHQBI43COrIZ"
      },
      "execution_count": 10,
      "outputs": []
    },
    {
      "cell_type": "code",
      "source": [
        "# Initialize a dictionary to store results\n",
        "results = {model_name: {\"SelectKBest\": None, \"RFE\": None, \"PCA\": None} for model_name in models}"
      ],
      "metadata": {
        "id": "eaH6UIykOvKy"
      },
      "execution_count": 11,
      "outputs": []
    },
    {
      "cell_type": "code",
      "source": [
        "# Train each model using each feature selection method and store results\n",
        "for model_name, model in models.items():\n",
        "    results[model_name][\"SelectKBest\"] = train_evaluate_model(model, X_train_k_best, X_test_k_best)\n",
        "    results[model_name][\"RFE\"] = train_evaluate_model(model, X_train_rfe, X_test_rfe)\n",
        "    results[model_name][\"PCA\"] = train_evaluate_model(model, X_train_pca, X_test_pca)"
      ],
      "metadata": {
        "id": "Iwr2Xyt2Oz-J"
      },
      "execution_count": 12,
      "outputs": []
    },
    {
      "cell_type": "code",
      "source": [
        "# Display the results in the specified table format\n",
        "print(\"| Model               | MSE with SelectKBest | MSE with RFE | MSE with PCA |\")\n",
        "print(\"|---------------------|----------------------|--------------|--------------|\")\n",
        "for model_name, scores in results.items():\n",
        "    print(f\"| {model_name:<19} | {scores['SelectKBest']:<20} | {scores['RFE']:<12} | {scores['PCA']} |\")"
      ],
      "metadata": {
        "colab": {
          "base_uri": "https://localhost:8080/"
        },
        "id": "R2RpvJwaO7Lh",
        "outputId": "b87fca96-ded4-46ab-9b03-fddf0050591f"
      },
      "execution_count": 13,
      "outputs": [
        {
          "output_type": "stream",
          "name": "stdout",
          "text": [
            "| Model               | MSE with SelectKBest | MSE with RFE | MSE with PCA |\n",
            "|---------------------|----------------------|--------------|--------------|\n",
            "| Linear Regression   | 0.6382565441555919   | 0.5667695170781499 | 0.7431025684653442 |\n",
            "| Ridge Regression    | 0.6382133029769735   | 0.5667326028214025 | 0.7430998408273355 |\n",
            "| Lasso Regression    | 1.3106960720039365   | 1.3106960720039365 | 1.3106960720039365 |\n",
            "| Random Forest       | 0.4487779633474012   | 0.2386777326507045 | 0.5551448307277324 |\n"
          ]
        }
      ]
    }
  ]
}