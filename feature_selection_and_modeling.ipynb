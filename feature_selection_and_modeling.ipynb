{
  "nbformat": 4,
  "nbformat_minor": 0,
  "metadata": {
    "colab": {
      "provenance": []
    },
    "kernelspec": {
      "name": "python3",
      "display_name": "Python 3"
    },
    "language_info": {
      "name": "python"
    }
  },
  "cells": [
    {
      "cell_type": "code",
      "execution_count": 1,
      "metadata": {
        "id": "d8AbMUovEwV-"
      },
      "outputs": [],
      "source": [
        "# Import necessary libraries\n",
        "from sklearn.datasets import fetch_california_housing\n",
        "from sklearn.model_selection import train_test_split\n",
        "from sklearn.preprocessing import StandardScaler\n",
        "from sklearn.feature_selection import SelectKBest, f_regression, RFE\n",
        "from sklearn.decomposition import PCA\n",
        "from sklearn.linear_model import LinearRegression\n",
        "from sklearn.metrics import mean_squared_error"
      ]
    },
    {
      "cell_type": "code",
      "source": [
        "# Load the California housing dataset\n",
        "housing = fetch_california_housing()\n",
        "X = housing.data\n",
        "y = housing.target"
      ],
      "metadata": {
        "id": "R3CF6ajAF3i3"
      },
      "execution_count": 2,
      "outputs": []
    },
    {
      "cell_type": "code",
      "source": [
        "# Split the dataset into a training set and a test set\n",
        "X_train, X_test, y_train, y_test = train_test_split(X, y, test_size=0.2, random_state=42)"
      ],
      "metadata": {
        "id": "CjH9vTmDF9CB"
      },
      "execution_count": 3,
      "outputs": []
    },
    {
      "cell_type": "code",
      "source": [
        "# Standardize our features\n",
        "scaler = StandardScaler()\n",
        "X_train_scaled = scaler.fit_transform(X_train)\n",
        "X_test_scaled = scaler.transform(X_test)"
      ],
      "metadata": {
        "id": "TnIPVDKdGH-K"
      },
      "execution_count": 5,
      "outputs": []
    },
    {
      "cell_type": "code",
      "source": [
        "# Feature selection -  using SelectKBest to select the top 5 features\n",
        "k = 5  # Choose the number of top features to select\n",
        "selector = SelectKBest(score_func=f_regression, k=k)\n",
        "X_train_selected = selector.fit_transform(X_train_scaled, y_train)\n",
        "X_test_selected = selector.transform(X_test_scaled)"
      ],
      "metadata": {
        "id": "h1ioy3aoGO09"
      },
      "execution_count": 6,
      "outputs": []
    },
    {
      "cell_type": "code",
      "source": [
        "# Now  use Recursive Feature Elimination (RFE) to select the top 5 features\n",
        "# RFE uses an external estimator to weigh features (we'll use LinearRegression)\n",
        "model = LinearRegression()\n",
        "selector_rfe = RFE(model, n_features_to_select=k)\n",
        "X_train_rfe = selector_rfe.fit_transform(X_train_scaled, y_train)\n",
        "X_test_rfe = selector_rfe.transform(X_test_scaled)"
      ],
      "metadata": {
        "id": "UgQ5pJBDGWVA"
      },
      "execution_count": 8,
      "outputs": []
    },
    {
      "cell_type": "code",
      "source": [
        "# Dimensionality reduction - use PCA to reduce our feature space to 5 dimensions\n",
        "pca = PCA(n_components=k)\n",
        "X_train_pca = pca.fit_transform(X_train_scaled)\n",
        "X_test_pca = pca.transform(X_test_scaled)"
      ],
      "metadata": {
        "id": "4wIBC6uaGb2j"
      },
      "execution_count": 10,
      "outputs": []
    },
    {
      "cell_type": "code",
      "source": [
        "# Initialize our Linear Regression model\n",
        "lr = LinearRegression()"
      ],
      "metadata": {
        "id": "Xhy92SJPGhRu"
      },
      "execution_count": 11,
      "outputs": []
    },
    {
      "cell_type": "code",
      "source": [
        "# Train and evaluate the model using the selected features from SelectKBest\n",
        "lr.fit(X_train_selected, y_train)\n",
        "predictions_selected = lr.predict(X_test_selected)\n",
        "mse_selected = mean_squared_error(y_test, predictions_selected)"
      ],
      "metadata": {
        "id": "1Xh9pJOoGl6y"
      },
      "execution_count": 12,
      "outputs": []
    },
    {
      "cell_type": "code",
      "source": [
        "# Train and evaluate the model using the selected features from RFE\n",
        "lr.fit(X_train_rfe, y_train)\n",
        "predictions_rfe = lr.predict(X_test_rfe)\n",
        "mse_rfe = mean_squared_error(y_test, predictions_rfe)"
      ],
      "metadata": {
        "id": "qBQOCgRcGqcU"
      },
      "execution_count": 13,
      "outputs": []
    },
    {
      "cell_type": "code",
      "source": [
        "# Train and evaluate the model using the principal components from PCA\n",
        "lr.fit(X_train_pca, y_train)\n",
        "predictions_pca = lr.predict(X_test_pca)\n",
        "mse_pca = mean_squared_error(y_test, predictions_pca)"
      ],
      "metadata": {
        "id": "X5FWn39PGur7"
      },
      "execution_count": 14,
      "outputs": []
    },
    {
      "cell_type": "code",
      "source": [
        "\n",
        "# Print the MSE for each feature selection method\n",
        "print(f'MSE with SelectKBest: {mse_selected}')\n",
        "print(f'MSE with RFE: {mse_rfe}')\n",
        "print(f'MSE with PCA: {mse_pca}')"
      ],
      "metadata": {
        "colab": {
          "base_uri": "https://localhost:8080/"
        },
        "id": "biq-5roTGybQ",
        "outputId": "18887083-7469-4666-c2f9-58aaf01b9980"
      },
      "execution_count": 15,
      "outputs": [
        {
          "output_type": "stream",
          "name": "stdout",
          "text": [
            "MSE with SelectKBest: 0.6382565441555919\n",
            "MSE with RFE: 0.5667695170781499\n",
            "MSE with PCA: 0.7431025684653442\n"
          ]
        }
      ]
    }
  ]
}